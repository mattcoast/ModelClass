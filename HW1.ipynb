{
 "cells": [
  {
   "cell_type": "markdown",
   "metadata": {},
   "source": [
    "# Homework 1 CE 796 1/15/2019 "
   ]
  },
  {
   "cell_type": "markdown",
   "metadata": {},
   "source": [
    "## Matt Campbell\n",
    "---"
   ]
  },
  {
   "cell_type": "code",
   "execution_count": null,
   "metadata": {},
   "outputs": [],
   "source": [
    "#this is for installing into virtual environment\n",
    "import sys\n",
    "!{sys.executable} -m pip install pandas\n",
    "!{sys.executable} -m pip install matplotlib\n",
    "!{sys.executable} -m pip install numpy\n"
   ]
  },
  {
   "cell_type": "code",
   "execution_count": 4,
   "metadata": {},
   "outputs": [],
   "source": [
    "# Import relavant libraries\n",
    "import matplotlib\n",
    "import matplotlib.pyplot as plt\n",
    "import pandas as pd\n",
    "import numpy as np"
   ]
  },
  {
   "cell_type": "markdown",
   "metadata": {},
   "source": [
    "## 1.) Calculate covariance 2 different ways using research data.\n",
    "* The data used is for oyster measurements for hieght, wieght, and length. \n",
    "+ Use `sigma^2_xy = E(XY) - E(X)E(Y)`\n",
    "+ Use `sigma^2_xy = sum{i=1->n} [(x_i-Xbar)*(y_i-Ybar)]`\n",
    "\n",
    "### Import Data"
   ]
  },
  {
   "cell_type": "code",
   "execution_count": 96,
   "metadata": {},
   "outputs": [
    {
     "data": {
      "text/html": [
       "<div>\n",
       "<style scoped>\n",
       "    .dataframe tbody tr th:only-of-type {\n",
       "        vertical-align: middle;\n",
       "    }\n",
       "\n",
       "    .dataframe tbody tr th {\n",
       "        vertical-align: top;\n",
       "    }\n",
       "\n",
       "    .dataframe thead th {\n",
       "        text-align: right;\n",
       "    }\n",
       "</style>\n",
       "<table border=\"1\" class=\"dataframe\">\n",
       "  <thead>\n",
       "    <tr style=\"text-align: right;\">\n",
       "      <th></th>\n",
       "      <th>WIDTH</th>\n",
       "      <th>LENGTH</th>\n",
       "      <th>HEIGHT</th>\n",
       "    </tr>\n",
       "  </thead>\n",
       "  <tbody>\n",
       "    <tr>\n",
       "      <th>0</th>\n",
       "      <td>5.42</td>\n",
       "      <td>8.76</td>\n",
       "      <td>12.79</td>\n",
       "    </tr>\n",
       "    <tr>\n",
       "      <th>1</th>\n",
       "      <td>4.68</td>\n",
       "      <td>12.06</td>\n",
       "      <td>14.05</td>\n",
       "    </tr>\n",
       "    <tr>\n",
       "      <th>2</th>\n",
       "      <td>3.65</td>\n",
       "      <td>8.94</td>\n",
       "      <td>10.43</td>\n",
       "    </tr>\n",
       "    <tr>\n",
       "      <th>3</th>\n",
       "      <td>3.54</td>\n",
       "      <td>10.54</td>\n",
       "      <td>8.77</td>\n",
       "    </tr>\n",
       "    <tr>\n",
       "      <th>4</th>\n",
       "      <td>4.87</td>\n",
       "      <td>11.97</td>\n",
       "      <td>15.75</td>\n",
       "    </tr>\n",
       "  </tbody>\n",
       "</table>\n",
       "</div>"
      ],
      "text/plain": [
       "   WIDTH  LENGTH   HEIGHT\n",
       "0   5.42     8.76   12.79\n",
       "1   4.68    12.06   14.05\n",
       "2   3.65     8.94   10.43\n",
       "3   3.54    10.54    8.77\n",
       "4   4.87    11.97   15.75"
      ]
     },
     "execution_count": 96,
     "metadata": {},
     "output_type": "execute_result"
    }
   ],
   "source": [
    "filename = 'Cluster100October.csv'\n",
    "data =  pd.read_csv(filename) \n",
    "data.head()\n"
   ]
  },
  {
   "cell_type": "markdown",
   "metadata": {},
   "source": [
    "### Plot data for Width versus Height"
   ]
  },
  {
   "cell_type": "code",
   "execution_count": 107,
   "metadata": {},
   "outputs": [
    {
     "data": {
      "image/png": "[encoded data removed]",
      "text/plain": [
       "<Figure size 460.8x345.6 with 1 Axes>"
      ]
     },
     "metadata": {},
     "output_type": "display_data"
    }
   ],
   "source": [
    "fig = plt.figure(figsize=[6.4,4.8])\n",
    "import matplotlib.style as mplstyle\n",
    "mplstyle.use('ggplot')\n",
    "x = data['WIDTH']\n",
    "y = data['HEIGHT']\n",
    "area = 20 \n",
    "plt.scatter(x, y, s=area, alpha=0.75)\n",
    "plt.title('Oyster Width vs. Height')\n",
    "plt.xlabel('Height (mm)')\n",
    "plt.ylabel('Width (mm)')\n",
    "plt.show()\n"
   ]
  },
  {
   "cell_type": "markdown",
   "metadata": {},
   "source": [
    "## Calculate covariance of oyster height and width using expectation parameters and covariance function\n",
    "\n",
    "First we calculate using the expectation parameter formulation derived in class:\n",
    "\n",
    "`sigma^2_xy = E(XY) - E(X)E(Y)`"
   ]
  },
  {
   "cell_type": "code",
   "execution_count": 115,
   "metadata": {},
   "outputs": [
    {
     "name": "stdout",
     "output_type": "stream",
     "text": [
      "51.88948499999999\n",
      "4.1668\n",
      "12.0146\n",
      "1.8270497199999909\n"
     ]
    }
   ],
   "source": [
    "Exy=np.mean(x*y)\n",
    "print(exy)\n",
    "ex=np.mean(x)\n",
    "ey=np.mean(y)\n",
    "print(ex)\n",
    "print(ey)\n",
    "s2_xy=exy-ex*ey\n",
    "print(s2_xy)"
   ]
  },
  {
   "cell_type": "markdown",
   "metadata": {},
   "source": [
    "> This calculation reveals that `s2_xy = 1.83`\n",
    "\n",
    "Next, we calculate the covariance using the sum of squares method function in numpy"
   ]
  },
  {
   "cell_type": "code",
   "execution_count": 116,
   "metadata": {},
   "outputs": [
    {
     "name": "stdout",
     "output_type": "stream",
     "text": [
      "1.8455047676767677\n"
     ]
    }
   ],
   "source": [
    "S2_xy = np.cov(x,y)[0,1]\n",
    "print(S2_xy)"
   ]
  },
  {
   "cell_type": "markdown",
   "metadata": {},
   "source": [
    "> This calculation reveals that `S2_xy = 1.85`\n",
    "\n",
    "These calculations are close, but not exactly the same.\n"
   ]
  }
 ],
 "metadata": {
  "kernelspec": {
   "display_name": "Python 3",
   "language": "python",
   "name": "python3"
  },
  "language_info": {
   "codemirror_mode": {
    "name": "ipython",
    "version": 3
   },
   "file_extension": ".py",
   "mimetype": "text/x-python",
   "name": "python",
   "nbconvert_exporter": "python",
   "pygments_lexer": "ipython3",
   "version": "3.7.2"
  }
 },
 "nbformat": 4,
 "nbformat_minor": 2
}
